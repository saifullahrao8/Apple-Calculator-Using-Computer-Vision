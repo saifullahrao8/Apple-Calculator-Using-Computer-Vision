{
  "nbformat": 4,
  "nbformat_minor": 0,
  "metadata": {
    "colab": {
      "provenance": [],
      "machine_shape": "hm",
      "gpuType": "L4"
    },
    "kernelspec": {
      "name": "python3",
      "display_name": "Python 3"
    },
    "language_info": {
      "name": "python"
    },
    "accelerator": "GPU"
  },
  "cells": [
    {
      "cell_type": "code",
      "source": [
        "# Step 1: Install dependencies\n",
        "!pip install ultralytics gradio opencv-python-headless scipy --quiet\n",
        "\n",
        "# Step 2: Imports\n",
        "from ultralytics import YOLO\n",
        "import gradio as gr\n",
        "import cv2\n",
        "import numpy as np\n",
        "from scipy.io.wavfile import write\n",
        "from IPython.display import Audio, display\n",
        "\n",
        "# Step 3: Load your trained YOLO model\n",
        "model = YOLO(\"best.pt\")  # Upload best.pt to Colab first\n",
        "\n",
        "# Step 4: Generate a beep sound (saved as beep.wav)\n",
        "def generate_beep(filename=\"beep.wav\", freq=600, duration=0.4, rate=44100):\n",
        "    t = np.linspace(0, duration, int(rate * duration))\n",
        "    data = 0.5 * np.sin(2 * np.pi * freq * t)\n",
        "    write(filename, rate, data.astype(np.float32))\n",
        "\n",
        "generate_beep()\n",
        "\n",
        "# Step 5: Detection logic\n",
        "def detect_dents(image):\n",
        "    results = model(image)\n",
        "    img = results[0].orig_img.copy()\n",
        "\n",
        "    dent_detected = False\n",
        "\n",
        "    for box in results[0].boxes:\n",
        "        dent_detected = True\n",
        "        x1, y1, x2, y2 = map(int, box.xyxy[0])\n",
        "        cls = int(box.cls[0])\n",
        "        conf = float(box.conf[0])\n",
        "        label = f\"{model.names[cls]}: {conf:.2f}\"\n",
        "\n",
        "        # Draw bounding box and label\n",
        "        cv2.rectangle(img, (x1, y1), (x2, y2), (0, 255, 0), 3)\n",
        "        cv2.putText(img, label, (x1, y1 - 10),\n",
        "                    cv2.FONT_HERSHEY_SIMPLEX, 0.8, (255, 0, 0), 2)\n",
        "\n",
        "    if dent_detected:\n",
        "        display(Audio(\"beep.wav\", autoplay=True))\n",
        "    else:\n",
        "        # If no dent, show \"PASS\" message on image\n",
        "        cv2.putText(img, \"PASS\", (30, 60), cv2.FONT_HERSHEY_SIMPLEX,\n",
        "                    2, (0, 255, 0), 4)\n",
        "\n",
        "    return cv2.cvtColor(img, cv2.COLOR_BGR2RGB)\n",
        "\n",
        "# Step 6: Launch Gradio UI\n",
        "gr.Interface(\n",
        "    fn=detect_dents,\n",
        "    inputs=gr.Image(type=\"numpy\", label=\"Upload Car Image\"),\n",
        "    outputs=gr.Image(label=\"Result\"),\n",
        "    title=\"🚗 Car Dent Detector\",\n",
        "    description=\"Get a beep and bounding box if dent is detected. If no dent, see 'PASS' message.\"\n",
        ").launch(share=True)"
      ],
      "metadata": {
        "id": "JMoDiCQTpDDo",
        "outputId": "1dfcc012-eaae-4e68-8980-87f64d93d88d",
        "colab": {
          "base_uri": "https://localhost:8080/",
          "height": 616
        }
      },
      "execution_count": 4,
      "outputs": [
        {
          "output_type": "stream",
          "name": "stdout",
          "text": [
            "Colab notebook detected. To show errors in colab notebook, set debug=True in launch()\n",
            "* Running on public URL: https://7fc35a1703ba1d7996.gradio.live\n",
            "\n",
            "This share link expires in 1 week. For free permanent hosting and GPU upgrades, run `gradio deploy` from the terminal in the working directory to deploy to Hugging Face Spaces (https://huggingface.co/spaces)\n"
          ]
        },
        {
          "output_type": "display_data",
          "data": {
            "text/plain": [
              "<IPython.core.display.HTML object>"
            ],
            "text/html": [
              "<div><iframe src=\"https://7fc35a1703ba1d7996.gradio.live\" width=\"100%\" height=\"500\" allow=\"autoplay; camera; microphone; clipboard-read; clipboard-write;\" frameborder=\"0\" allowfullscreen></iframe></div>"
            ]
          },
          "metadata": {}
        },
        {
          "output_type": "execute_result",
          "data": {
            "text/plain": []
          },
          "metadata": {},
          "execution_count": 4
        }
      ]
    }
  ]
}